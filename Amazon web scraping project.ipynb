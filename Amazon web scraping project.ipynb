{
 "cells": [
  {
   "cell_type": "code",
   "execution_count": 3,
   "id": "533a8b19",
   "metadata": {},
   "outputs": [],
   "source": [
    "#import libraries\n",
    "from bs4 import BeautifulSoup\n",
    "import time\n",
    "import datetime\n",
    "import requests\n",
    "import smtplib\n"
   ]
  },
  {
   "cell_type": "code",
   "execution_count": 36,
   "id": "93a8eeec",
   "metadata": {},
   "outputs": [
    {
     "name": "stdout",
     "output_type": "stream",
     "text": [
      "\n",
      "            AI for Absolute Beginners: A Clear Guide to Tomorrow (AI, Data Science, Python & Statistics for Beginners)\n",
      "           \n",
      "\n",
      "                           $9.90\n",
      "                          \n"
     ]
    }
   ],
   "source": [
    "URL = 'https://www.amazon.com/gp/product/191366628X?ref_=dbs_m_mng_rwt_calw_tpbk_0&storeType=ebooks&qid=1700126714&sr=8-4'\n",
    "\n",
    "headers = {\"User-Agent\": \"Mozilla/5.0 (Windows NT 10.0; Win64; x64) AppleWebKit/537.36 (KHTML, like Gecko) Chrome/78.0.3904.108 Safari/537.36\", \"Accept-Encoding\":\"gzip, deflate\", \"Accept\":\"text/html,application/xhtml+xml,application/xml;q=0.9,*/*;q=0.8\", \"DNT\":\"1\",\"Connection\":\"close\", \"Upgrade-Insecure-Requests\":\"1\"}\n",
    "\n",
    "page = requests.get(URL, headers=headers)\n",
    "\n",
    "soup1 = BeautifulSoup(page.content, \"html.parser\")\n",
    "\n",
    "soup2 = BeautifulSoup(soup1.prettify(), \"html.parser\")\n",
    "\n",
    "title= soup2.find(id='productTitle').get_text()\n",
    "\n",
    "price = soup2.find(id='price').get_text()\n",
    "\n",
    "\n",
    "print(title)\n",
    "print(price)"
   ]
  },
  {
   "cell_type": "code",
   "execution_count": 38,
   "id": "1d1182b2",
   "metadata": {},
   "outputs": [
    {
     "name": "stdout",
     "output_type": "stream",
     "text": [
      "AI for Absolute Beginners: A Clear Guide to Tomorrow (AI, Data Science, Python & Statistics for Beginners)\n",
      "$9.90\n"
     ]
    }
   ],
   "source": [
    "title = title.strip()\n",
    "print(title)\n",
    "price = price.strip()\n",
    "print(price)"
   ]
  },
  {
   "cell_type": "code",
   "execution_count": 39,
   "id": "ce1aae4d",
   "metadata": {},
   "outputs": [
    {
     "name": "stdout",
     "output_type": "stream",
     "text": [
      "2023-11-16\n"
     ]
    }
   ],
   "source": [
    "# Create a Timestamp for your output to track when data was collected\n",
    "\n",
    "import datetime\n",
    "\n",
    "today = datetime.date.today()\n",
    "\n",
    "print(today)"
   ]
  },
  {
   "cell_type": "code",
   "execution_count": 41,
   "id": "9ef711d2",
   "metadata": {},
   "outputs": [],
   "source": [
    "import csv\n",
    "\n",
    "header = ['Title','Price','Date']\n",
    "data = [title,price,today]\n",
    "\n",
    "with open('Amazonwebdataset.csv', 'w',newline='',encoding='UTF8') as f:\n",
    "    writer = csv.writer(f)\n",
    "    writer.writerow(header)\n",
    "    writer.writerow(data)\n",
    "\n"
   ]
  },
  {
   "cell_type": "code",
   "execution_count": null,
   "id": "d73ac963",
   "metadata": {},
   "outputs": [],
   "source": [
    "import pandas as p\n",
    "\n",
    "df= p.read_csv(r'C:\\Users\\masta\\Amazonwebdataset.csv')\n",
    "print(df)\n",
    "\n"
   ]
  },
  {
   "cell_type": "code",
   "execution_count": 48,
   "id": "2988f73f",
   "metadata": {},
   "outputs": [],
   "source": [
    "#Now we are appending data to the csv\n",
    "with open('Amazonwebdataset.csv', 'a+', newline='', encoding='UTF8') as f:\n",
    "    writer = csv.writer(f)\n",
    "    writer.writerow(data)"
   ]
  },
  {
   "cell_type": "code",
   "execution_count": 55,
   "id": "252fbabf",
   "metadata": {},
   "outputs": [
    {
     "ename": "KeyboardInterrupt",
     "evalue": "",
     "output_type": "error",
     "traceback": [
      "\u001b[1;31m---------------------------------------------------------------------------\u001b[0m",
      "\u001b[1;31mKeyboardInterrupt\u001b[0m                         Traceback (most recent call last)",
      "Cell \u001b[1;32mIn[55], line 3\u001b[0m\n\u001b[0;32m      1\u001b[0m \u001b[38;5;28;01mwhile\u001b[39;00m(\u001b[38;5;28;01mTrue\u001b[39;00m):\n\u001b[0;32m      2\u001b[0m     check_price()\n\u001b[1;32m----> 3\u001b[0m     \u001b[43mtime\u001b[49m\u001b[38;5;241;43m.\u001b[39;49m\u001b[43msleep\u001b[49m\u001b[43m(\u001b[49m\u001b[38;5;241;43m10\u001b[39;49m\u001b[43m)\u001b[49m\n",
      "\u001b[1;31mKeyboardInterrupt\u001b[0m: "
     ]
    }
   ],
   "source": [
    "while(True):\n",
    "    check_price()\n",
    "    time.sleep(5)"
   ]
  },
  {
   "cell_type": "code",
   "execution_count": 58,
   "id": "c431e2bb",
   "metadata": {},
   "outputs": [],
   "source": [
    "def check_price():\n",
    "    URL = 'https://www.amazon.com/gp/product/191366628X?ref_=dbs_m_mng_rwt_calw_tpbk_0&storeType=ebooks&qid=1700126714&sr=8-4'\n",
    "    headers = {\"User-Agent\": \"Mozilla/5.0 (Windows NT 10.0; Win64; x64) AppleWebKit/537.36 (KHTML, like Gecko) Chrome/78.0.3904.108 Safari/537.36\", \"Accept-Encoding\":\"gzip, deflate\", \"Accept\":\"text/html,application/xhtml+xml,application/xml;q=0.9,*/*;q=0.8\", \"DNT\":\"1\",\"Connection\":\"close\", \"Upgrade-Insecure-Requests\":\"1\"}\n",
    "\n",
    "    page = requests.get(URL, headers=headers)\n",
    "\n",
    "    soup1 = BeautifulSoup(page.content, \"html.parser\")\n",
    "\n",
    "    soup2 = BeautifulSoup(soup1.prettify(), \"html.parser\")\n",
    "\n",
    "    title= soup2.find(id='productTitle').get_text()\n",
    "\n",
    "    price = soup2.find(id='price').get_text()\n",
    "\n",
    "    price = price.strip()[1:]\n",
    "    title = title.strip()\n",
    "\n",
    "    import datetime\n",
    "\n",
    "    today = datetime.date.today()\n",
    "    import csv \n",
    "\n",
    "    header = ['Title', 'Price', 'Date']\n",
    "    data = [title, price, today]\n",
    "\n",
    "    with open('AmazonWebdataset.csv', 'a+', newline='', encoding='UTF8') as f:\n",
    "        writer = csv.writer(f)\n",
    "        writer.writerow(data)\n",
    "        \n",
    "    if (price<10):\n",
    "        send_mail()"
   ]
  },
  {
   "cell_type": "code",
   "execution_count": 56,
   "id": "439c7f58",
   "metadata": {},
   "outputs": [
    {
     "name": "stdout",
     "output_type": "stream",
     "text": [
      "                                                Title   Price        Date\n",
      "0   AI for Absolute Beginners: A Clear Guide to To...  $9.90   11/16/2023\n",
      "1   AI for Absolute Beginners: A Clear Guide to To...   $9.90  2023-11-16\n",
      "2   AI for Absolute Beginners: A Clear Guide to To...   $9.90  2023-11-16\n",
      "3   AI for Absolute Beginners: A Clear Guide to To...    9.90  2023-11-16\n",
      "4   AI for Absolute Beginners: A Clear Guide to To...    9.90  2023-11-16\n",
      "5   AI for Absolute Beginners: A Clear Guide to To...    9.90  2023-11-16\n",
      "6   AI for Absolute Beginners: A Clear Guide to To...    9.90  2023-11-16\n",
      "7   AI for Absolute Beginners: A Clear Guide to To...    9.90  2023-11-16\n",
      "8   AI for Absolute Beginners: A Clear Guide to To...    9.90  2023-11-16\n",
      "9   AI for Absolute Beginners: A Clear Guide to To...    9.90  2023-11-16\n",
      "10  AI for Absolute Beginners: A Clear Guide to To...    9.90  2023-11-16\n",
      "11  AI for Absolute Beginners: A Clear Guide to To...    9.90  2023-11-16\n",
      "12  AI for Absolute Beginners: A Clear Guide to To...    9.90  2023-11-16\n",
      "13  AI for Absolute Beginners: A Clear Guide to To...    9.90  2023-11-16\n",
      "14  AI for Absolute Beginners: A Clear Guide to To...    9.90  2023-11-16\n",
      "15  AI for Absolute Beginners: A Clear Guide to To...    9.90  2023-11-16\n",
      "16  AI for Absolute Beginners: A Clear Guide to To...    9.90  2023-11-16\n",
      "17  AI for Absolute Beginners: A Clear Guide to To...    9.90  2023-11-16\n",
      "18  AI for Absolute Beginners: A Clear Guide to To...    9.90  2023-11-16\n"
     ]
    }
   ],
   "source": [
    "import pandas as p\n",
    "\n",
    "df= p.read_csv(r'C:\\Users\\masta\\Amazonwebdataset.csv')\n",
    "print(df)\n"
   ]
  },
  {
   "cell_type": "code",
   "execution_count": 59,
   "id": "08107bf8",
   "metadata": {},
   "outputs": [],
   "source": [
    "# If uou want to try sending yourself an email (just for fun) when a price hits below a certain level you can try it\n",
    "# out with this script\n",
    "\n",
    "def send_mail():\n",
    "    server = smtplib.SMTP_SSL('smtp.gmail.com',465)\n",
    "    server.ehlo()\n",
    "    #server.starttls()\n",
    "    server.ehlo()\n",
    "    server.login('mastanvalinb2002@gmail.com','Mastanvali@123')\n",
    "    \n",
    "    subject = \"The Shirt you want is below $15! Now is your chance to buy!\"\n",
    "    body = \"Mastan, This is the moment we have been waiting for. Now is your chance to pick up the shirt of your dreams. Don't mess it up! Link here: https://www.amazon.com/Funny-Data-Systems-Business-Analyst/dp/B07FNW9FGJ/ref=sr_1_3?dchild=1&keywords=data+analyst+tshirt&qid=1626655184&sr=8-3\"\n",
    "   \n",
    "    msg = f\"Subject: {subject}\\n\\n{body}\"\n",
    "    \n",
    "    server.sendmail(\n",
    "        'mastanvalinb2002@gmail.com',\n",
    "        msg\n",
    "     \n",
    "    )\n",
    "    "
   ]
  },
  {
   "cell_type": "code",
   "execution_count": null,
   "id": "ad56935c",
   "metadata": {},
   "outputs": [],
   "source": []
  }
 ],
 "metadata": {
  "kernelspec": {
   "display_name": "Python 3 (ipykernel)",
   "language": "python",
   "name": "python3"
  },
  "language_info": {
   "codemirror_mode": {
    "name": "ipython",
    "version": 3
   },
   "file_extension": ".py",
   "mimetype": "text/x-python",
   "name": "python",
   "nbconvert_exporter": "python",
   "pygments_lexer": "ipython3",
   "version": "3.10.6"
  }
 },
 "nbformat": 4,
 "nbformat_minor": 5
}
